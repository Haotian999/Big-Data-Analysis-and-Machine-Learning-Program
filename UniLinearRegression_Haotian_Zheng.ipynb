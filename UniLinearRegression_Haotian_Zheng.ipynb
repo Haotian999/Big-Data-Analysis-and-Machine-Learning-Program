{
 "cells": [
  {
   "cell_type": "code",
   "execution_count": 3,
   "metadata": {},
   "outputs": [],
   "source": [
    "# models implemented\n",
    "import pandas as pd\n",
    "import numpy as np\n",
    "import matplotlib.pyplot as plt\n",
    "%matplotlib inline\n",
    "\n",
    "# The main class\n",
    "class UniLinearRegression:\n",
    "    def __init__(self):\n",
    "        self.x = [] # Independent value(s), which needs to be determined by the independent value(s)\n",
    "        self.y = [] # Dependent value(s), value(s) that is used to predict the dependent value(s)\n",
    "        self.optimized_model = None\n",
    "        self.plt = plt\n",
    "    def check_valid(self):\n",
    "        # Function that checks if the class is sufficient to perform a prediction\n",
    "        if(self.x.size <= 0 or self.y.size <= 0): # Error Handler\n",
    "            print(f\"x : {x.tolist()}, y : {y.tolist()} is not sufficient to perform such prediction\")\n",
    "            return False\n",
    "        return True\n",
    "    def h(self, theta1, theta0, x): #hypothesis function\n",
    "            return theta1 * x + theta0\n",
    "        \n",
    "    def fit(self, x = [], y = []):\n",
    "        \"\"\"\n",
    "        Function that fit the data using Gradient Descent\n",
    "        :param x: The independent value(s)\n",
    "        :param y: The dependent value(s)\n",
    "        \"\"\"\n",
    "        x, y = x.astype('float64'), y.astype('float64')\n",
    "        self.x, self.y = x, y\n",
    "        # Validation\n",
    "        if not self.check_valid(): return\n",
    "        \n",
    "        # Implementing Gradient Descent\n",
    "        def Loss(theta1, theta0, x, y): #loss function\n",
    "            return np.mean((self.h(theta1, theta0, x) - y) ** 2)\n",
    "\n",
    "        def gradient(theta1, theta0, x, y): #gradient\n",
    "            return np.mean(x * (theta1 * x + theta0 - y), axis=-1), np.mean(theta1 * x + theta0 - y, axis=-1)\n",
    "\n",
    "        def gradient_descent(theta1, theta0, x, y, alpha=0.000001, epsilon=0.00001):\n",
    "            prev_loss = 0\n",
    "            temp1, temp0 = 0, 0\n",
    "            loss = np.array([])\n",
    "            while True:\n",
    "                gradient_a, gradient_b = gradient(theta1, theta0, x, y)\n",
    "                if abs(Loss(theta1, theta0, x, y) - prev_loss) < epsilon:\n",
    "                    break\n",
    "                prev_loss = Loss(theta1, theta0, x, y)\n",
    "                loss = np.insert(loss, len(loss), prev_loss)\n",
    "                temp1 += gradient_a**2\n",
    "                temp0 += gradient_b**2\n",
    "                theta1 -= (alpha / (temp1 ** 0.5)) * gradient_a\n",
    "                theta0 -= (alpha / (temp0 ** 0.5)) * gradient_b\n",
    "            return theta1, theta0, loss.tolist().pop()/2\n",
    "        theta1_0, theta0_0 = 0 , 1\n",
    "        self.optimized_model = gradient_descent(theta1_0, theta0_0, x, y, alpha=0.1)\n",
    "        #print(self.optimized_model)\n",
    "        \n",
    "    def print(self):\n",
    "        # Validation\n",
    "        if not self.check_valid(): return\n",
    "        theta1, theta0, loss = self.optimized_model\n",
    "        print(f\"Optimized Model : {round(theta0,1)}+({round(theta1,1)}x)\\nLoss : {round(loss,2)}\")\n",
    "    def plot(self):\n",
    "        # Validation\n",
    "        if not self.check_valid(): return\n",
    "        # Plot\n",
    "        self.plt.scatter(self.x, self.y, color=\"black\", s=35) # plot data points\n",
    "        theta1, theta0, loss = self.optimized_model\n",
    "        prediction = self.h(theta1,theta0,self.x)\n",
    "        self.plt.plot(x, prediction, color=\"red\", linewidth=5.0) # plot prediction\n",
    "        self.plt.show()"
   ]
  },
  {
   "cell_type": "code",
   "execution_count": 4,
   "metadata": {
    "scrolled": true
   },
   "outputs": [
    {
     "name": "stdout",
     "output_type": "stream",
     "text": [
      "Test Exception:\n",
      "x : [], y : [] is not sufficient to perform such prediction\n",
      "x : [], y : [[3], [1], [2]] is not sufficient to perform such prediction\n",
      "\n",
      "Simple Data Test:\n",
      "Optimized Model : 2.9+(-0.5x)\n",
      "Loss : 0.25\n"
     ]
    },
    {
     "data": {
      "image/png": "[encoded data removed]",
      "text/plain": [
       "<Figure size 432x288 with 1 Axes>"
      ]
     },
     "metadata": {},
     "output_type": "display_data"
    },
    {
     "name": "stdout",
     "output_type": "stream",
     "text": [
      "\n",
      "Complex Data Test:\n",
      "Optimized Model : -9.8+(1.2x)\n",
      "Loss : 919.41\n"
     ]
    },
    {
     "data": {
      "image/png": "[encoded data removed]",
      "text/plain": [
       "<Figure size 432x288 with 1 Axes>"
      ]
     },
     "metadata": {},
     "output_type": "display_data"
    },
    {
     "name": "stdout",
     "output_type": "stream",
     "text": [
      "\n"
     ]
    }
   ],
   "source": [
    "# Test exception\n",
    "print(\"Test Exception:\")\n",
    "x, y = np.array([]),np.array([])\n",
    "UniLR = UniLinearRegression()\n",
    "UniLR.fit(x,y)\n",
    "x, y = np.array([]), np.array([[3],[1],[2]])\n",
    "UniLR.fit(x,y)\n",
    "print()\n",
    "\n",
    "# Simple Data Test\n",
    "print(\"Simple Data Test:\")\n",
    "x, y = np.array([1,2,3]), np.array([3,1,2])\n",
    "UniLR.fit(x,y)\n",
    "UniLR.print()\n",
    "UniLR.plot()\n",
    "print()\n",
    "\n",
    "# Complex Data Test\n",
    "print(\"Complex Data Test:\")\n",
    "x, y = np.arange(100), np.arange(100)+np.random.normal(size = 100)*40\n",
    "UniLR.fit(x,y)\n",
    "UniLR.print()\n",
    "UniLR.plot()\n",
    "print()"
   ]
  },
  {
   "cell_type": "code",
   "execution_count": null,
   "metadata": {},
   "outputs": [],
   "source": []
  },
  {
   "cell_type": "code",
   "execution_count": null,
   "metadata": {},
   "outputs": [],
   "source": []
  }
 ],
 "metadata": {
  "kernelspec": {
   "display_name": "Python 3",
   "language": "python",
   "name": "python3"
  },
  "language_info": {
   "codemirror_mode": {
    "name": "ipython",
    "version": 3
   },
   "file_extension": ".py",
   "mimetype": "text/x-python",
   "name": "python",
   "nbconvert_exporter": "python",
   "pygments_lexer": "ipython3",
   "version": "3.6.5"
  }
 },
 "nbformat": 4,
 "nbformat_minor": 2
}
