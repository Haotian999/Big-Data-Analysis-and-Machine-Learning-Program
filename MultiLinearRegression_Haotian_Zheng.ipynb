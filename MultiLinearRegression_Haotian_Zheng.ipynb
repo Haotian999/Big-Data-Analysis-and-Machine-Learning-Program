{
 "cells": [
  {
   "cell_type": "code",
   "execution_count": 1,
   "metadata": {},
   "outputs": [],
   "source": [
    "# models implemented\n",
    "import pandas as pd\n",
    "import numpy as np\n",
    "import matplotlib.pyplot as plt\n",
    "%matplotlib inline\n",
    "\n",
    "# The main class\n",
    "class MultiLinearRegression:\n",
    "    def __init__(self):\n",
    "        self.x = [] # Independent value(s), which needs to be determined by the independent value(s)\n",
    "        self.y = [] # Dependent value(s), value(s) that is used to predict the dependent value(s)\n",
    "        self.optimized_model = None\n",
    "        self.plt = plt\n",
    "    def check_valid(self):\n",
    "        # Function that checks if the class is sufficient to perform a prediction\n",
    "        if(self.x.size <= 0 or self.y.size <= 0): # Error Handler\n",
    "            print(f\"x : {x.tolist()}, y : {y.tolist()} is not sufficient to perform such prediction\")\n",
    "            return False\n",
    "        return True\n",
    "    def fit(self, x = [], y = []):\n",
    "        \"\"\"\n",
    "        Function that fit the data using Gradient Descent\n",
    "        :param x: The independent value(s)\n",
    "        :param y: The dependent value(s)\n",
    "        \"\"\"\n",
    "        x, y = x.astype('float64'), y.astype('float64')\n",
    "        self.x, self.y = x, y\n",
    "        # Validation\n",
    "        if not self.check_valid(): return\n",
    "        from sklearn.linear_model import LinearRegression\n",
    "        regressor = LinearRegression()\n",
    "        regressor.fit(self.x, self.y)\n",
    "        SSres = ((regressor.predict(self.x)-self.y).T * (regressor.predict(self.x)-self.y))[0,0]\n",
    "        loss = SSres / (2*self.y.shape[0])\n",
    "        self.optimized_model = regressor.intercept_, regressor.coef_, loss\n",
    "        #print(self.optimized_model)\n",
    "        \n",
    "    def print(self):\n",
    "        # Validation\n",
    "        if not self.check_valid(): return\n",
    "        intercept, thetas, loss = self.optimized_model\n",
    "        print(f\"Optimized Model : {round(intercept[0])} + {round(thetas[0][0],1)}x1 + {round(thetas[0][1],1)}x2\\nLoss:{loss}\")\n"
   ]
  },
  {
   "cell_type": "code",
   "execution_count": 2,
   "metadata": {},
   "outputs": [
    {
     "name": "stdout",
     "output_type": "stream",
     "text": [
      "Optimized Model : 2.0 + 0.4x1 + -0.2x2\n",
      "Loss:0.1250000000000001\n"
     ]
    }
   ],
   "source": [
    "X = np.array([[1,2],[2,4],[3,1],[4,3]])\n",
    "y = np.array([[3],[1],[2],[4]])\n",
    "MultiLR = MultiLinearRegression()\n",
    "MultiLR.fit(X,y)\n",
    "MultiLR.print()"
   ]
  },
  {
   "cell_type": "code",
   "execution_count": null,
   "metadata": {},
   "outputs": [],
   "source": []
  }
 ],
 "metadata": {
  "kernelspec": {
   "display_name": "Python 3",
   "language": "python",
   "name": "python3"
  },
  "language_info": {
   "codemirror_mode": {
    "name": "ipython",
    "version": 3
   },
   "file_extension": ".py",
   "mimetype": "text/x-python",
   "name": "python",
   "nbconvert_exporter": "python",
   "pygments_lexer": "ipython3",
   "version": "3.6.5"
  }
 },
 "nbformat": 4,
 "nbformat_minor": 2
}
