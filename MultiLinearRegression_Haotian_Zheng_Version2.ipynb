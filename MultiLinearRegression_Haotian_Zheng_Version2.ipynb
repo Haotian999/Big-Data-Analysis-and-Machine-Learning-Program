{
 "cells": [
  {
   "cell_type": "code",
   "execution_count": 11,
   "metadata": {},
   "outputs": [],
   "source": [
    "import pandas as pd\n",
    "import numpy as np\n",
    "from time import time\n",
    "import matplotlib.pyplot as plt\n",
    "%matplotlib inline"
   ]
  },
  {
   "cell_type": "code",
   "execution_count": 9,
   "metadata": {},
   "outputs": [],
   "source": [
    "class MultiLinearRegression:\n",
    "    def __init__(self,alpha):\n",
    "        #self.thetas = thetas # Independent value(s), which needs to be determined by the independent value(s)\n",
    "        self.alpha = alpha\n",
    "        #self.optimized_model = None\n",
    "        #self.plt = plt\n",
    "    \n",
    "    def check_valid(self):\n",
    "        # Function that checks if the class is sufficient to perform a prediction\n",
    "        if(self.x.size <= 0 or self.y.size <= 0): # Error Handler\n",
    "            print(f\"x : {x.tolist()}, y : {y.tolist()} is not sufficient to perform such prediction\")\n",
    "            return False\n",
    "        return True\n",
    "    \n",
    "    def change(self,X,y):\n",
    "        self.x = np.mat(np.insert(X, 0, values=np.ones((X.shape[0],)), axis=1))\n",
    "        self.y = np.mat(y).T\n",
    "        self.theta = np.mat(np.zeros(np.shape(self.x)[1])).T\n",
    "        \n",
    "    def cost(self):\n",
    "        er = self.x * self.theta - self.y.T\n",
    "        J = er.T * er / (2* (self.y.shape[0]))\n",
    "        return J[0,0]\n",
    "    \n",
    "    def gradient(self):\n",
    "        er = self.x * self.theta - self.y.T\n",
    "        grad = 1/(self.y.shape[0]) * er.T * self.x\n",
    "        return grad\n",
    "    \n",
    "    def update(self):\n",
    "        grad = self.gradient()\n",
    "        t = self.theta - (self.alpha * grad).T\n",
    "        return t\n",
    "    \n",
    "    def fit(self,a):\n",
    "        t_0 = time()\n",
    "        for i in range(a):\n",
    "            new_theta = self.update()\n",
    "            self.theta = new_theta\n",
    "            new_cost = self.cost()\n",
    "            m = time()-t_0\n",
    "        print('Loss: ', m)\n",
    "        \n",
    "    def print(self):\n",
    "        # Validation\n",
    "        if not self.check_valid(): return\n",
    "        X = np.array([[1,2],[2,4],[3,1],[4,3]])\n",
    "        y = np.array([[3],[1],[2],[4]])\n",
    "        MultiLR = MultiLinearRegression(0.001)\n",
    "        MultiLR.change(X,y)\n",
    "        print(f\"Optimized Model : hat(y) = {float(MultiLR.theta[0])} + {float(MultiLR.theta[1])} x1 + ({float(MultiLR.theta[2])}) x2\")\n",
    "        MultiLR.fit(10000)\n",
    "        \n"
   ]
  },
  {
   "cell_type": "code",
   "execution_count": 10,
   "metadata": {},
   "outputs": [
    {
     "ename": "NameError",
     "evalue": "name 'MultiLR' is not defined",
     "output_type": "error",
     "traceback": [
      "\u001b[0;31m---------------------------------------------------------------------------\u001b[0m",
      "\u001b[0;31mNameError\u001b[0m                                 Traceback (most recent call last)",
      "\u001b[0;32m<ipython-input-10-ee48b9219ebf>\u001b[0m in \u001b[0;36m<module>\u001b[0;34m()\u001b[0m\n\u001b[1;32m      1\u001b[0m \u001b[0;34m\u001b[0m\u001b[0m\n\u001b[0;32m----> 2\u001b[0;31m \u001b[0mMultiLR\u001b[0m\u001b[0;34m.\u001b[0m\u001b[0mprint\u001b[0m\u001b[0;34m(\u001b[0m\u001b[0;34m)\u001b[0m\u001b[0;34m\u001b[0m\u001b[0m\n\u001b[0m",
      "\u001b[0;31mNameError\u001b[0m: name 'MultiLR' is not defined"
     ]
    }
   ],
   "source": [
    "\n",
    "MultiLR.print()"
   ]
  },
  {
   "cell_type": "code",
   "execution_count": null,
   "metadata": {},
   "outputs": [],
   "source": []
  },
  {
   "cell_type": "code",
   "execution_count": null,
   "metadata": {},
   "outputs": [],
   "source": [
    "\n"
   ]
  },
  {
   "cell_type": "code",
   "execution_count": null,
   "metadata": {},
   "outputs": [],
   "source": [
    "\n"
   ]
  },
  {
   "cell_type": "code",
   "execution_count": null,
   "metadata": {},
   "outputs": [],
   "source": []
  },
  {
   "cell_type": "code",
   "execution_count": null,
   "metadata": {},
   "outputs": [],
   "source": []
  }
 ],
 "metadata": {
  "kernelspec": {
   "display_name": "Python 3",
   "language": "python",
   "name": "python3"
  },
  "language_info": {
   "codemirror_mode": {
    "name": "ipython",
    "version": 3
   },
   "file_extension": ".py",
   "mimetype": "text/x-python",
   "name": "python",
   "nbconvert_exporter": "python",
   "pygments_lexer": "ipython3",
   "version": "3.6.5"
  }
 },
 "nbformat": 4,
 "nbformat_minor": 2
}
